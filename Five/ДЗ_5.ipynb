{
 "cells": [
  {
   "cell_type": "markdown",
   "id": "a27cabac",
   "metadata": {},
   "source": [
    "### 4)  Есть ли статистически значимые различия в росте дочерей?\n",
    "\n",
    "### Рост матерей 172, 177, 158, 170, 178,175, 164, 160, 169, 165\n",
    "\n",
    "### Рост взрослых дочерей: 173, 175, 162, 174, 175, 168, 155, 170, 160, 163"
   ]
  },
  {
   "cell_type": "markdown",
   "id": "0e58b2fa",
   "metadata": {},
   "source": [
    "Нулевая гипотеза Н0: различий в росте нет;\n",
    "\n",
    "Альтернативная гипотеза Н1: рост не равен."
   ]
  },
  {
   "cell_type": "code",
   "execution_count": 1,
   "id": "c262d6b6",
   "metadata": {},
   "outputs": [],
   "source": [
    "import numpy as np\n",
    "from scipy import stats"
   ]
  },
  {
   "cell_type": "code",
   "execution_count": 3,
   "id": "9da06d7a",
   "metadata": {},
   "outputs": [],
   "source": [
    "mother = np.array([172, 177, 158, 170, 178,175, 164, 160, 169, 165])\n",
    "daughter = np.array([173, 175, 162, 174, 175, 168, 155, 170, 160, 163])\n",
    "alpha = 0.05"
   ]
  },
  {
   "cell_type": "code",
   "execution_count": 4,
   "id": "31a5ba62",
   "metadata": {},
   "outputs": [
    {
     "data": {
      "text/plain": [
       "Ttest_indResult(statistic=0.4138411497680053, pvalue=0.68387966499013)"
      ]
     },
     "execution_count": 4,
     "metadata": {},
     "output_type": "execute_result"
    }
   ],
   "source": [
    "stats.ttest_ind(mother, daughter)"
   ]
  },
  {
   "cell_type": "markdown",
   "id": "a124106c",
   "metadata": {},
   "source": [
    "_**pvalue > alpha, а значит гипотеза Н0 не отвергается.**_"
   ]
  },
  {
   "cell_type": "markdown",
   "id": "47311c08",
   "metadata": {},
   "source": [
    "#### Ответ:\n",
    "\n",
    "**Гипотеза Н0 не отвергается.**"
   ]
  },
  {
   "cell_type": "code",
   "execution_count": null,
   "id": "c3f4f2cc",
   "metadata": {},
   "outputs": [],
   "source": []
  }
 ],
 "metadata": {
  "kernelspec": {
   "display_name": "Python 3 (ipykernel)",
   "language": "python",
   "name": "python3"
  },
  "language_info": {
   "codemirror_mode": {
    "name": "ipython",
    "version": 3
   },
   "file_extension": ".py",
   "mimetype": "text/x-python",
   "name": "python",
   "nbconvert_exporter": "python",
   "pygments_lexer": "ipython3",
   "version": "3.9.13"
  }
 },
 "nbformat": 4,
 "nbformat_minor": 5
}
